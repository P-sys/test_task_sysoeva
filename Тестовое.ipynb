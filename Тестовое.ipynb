{
  "nbformat": 4,
  "nbformat_minor": 0,
  "metadata": {
    "colab": {
      "name": "Тестовое.ipynb",
      "provenance": [],
      "authorship_tag": "ABX9TyNh9P9W3s1hrgerfIN9XW3N",
      "include_colab_link": true
    },
    "kernelspec": {
      "name": "python3",
      "display_name": "Python 3"
    },
    "language_info": {
      "name": "python"
    }
  },
  "cells": [
    {
      "cell_type": "markdown",
      "metadata": {
        "id": "view-in-github",
        "colab_type": "text"
      },
      "source": [
        "<a href=\"https://colab.research.google.com/github/P-sys/test_task_sysoeva/blob/main/%D0%A2%D0%B5%D1%81%D1%82%D0%BE%D0%B2%D0%BE%D0%B5.ipynb\" target=\"_parent\"><img src=\"https://colab.research.google.com/assets/colab-badge.svg\" alt=\"Open In Colab\"/></a>"
      ]
    },
    {
      "cell_type": "markdown",
      "source": [
        "Вопросы:\n",
        "\n",
        "1) 7/10\n",
        "2) 7/10\n",
        "\n",
        "Математика:\n",
        "\n",
        "**1)** 40 - 20 * (1 + 0.8) = 4 ОТВЕТ: 4$\n",
        "\n",
        "**2)** Одна кампания в час: 120/(24 \\* 6 \\* 5) = 1/6$\n",
        "\n",
        "8 * 9 / 6 = 12$ - 9 кампаний в день\n",
        "\n",
        "216 / 12 = 18 дней ОТВЕТ: 18 дней\n",
        "\n",
        "**3)** x - общие баннеры\n",
        "\n",
        "200 - 80 - 60 = 60 - баннеры только 2 и общие\n",
        "\n",
        "3x + x = 60\n",
        "\n",
        "x = 15 ОТВЕТ: 15 баннер и в 1 и во 2\n",
        "\n",
        "**4)** Предпочтения сопадают у Джона и Кейт\n",
        "\n",
        "**5)** x - искомый балл\n",
        "\n",
        "(78 * 4 + x)/5 = 80\n",
        "\n",
        "x = 88 ОТВЕТ: 88 баллов\n",
        "\n",
        "**6)** (260/80 - 260/100) * 60 = 39 минут ОТВЕТ: на 39 минут"
      ],
      "metadata": {
        "id": "r1nrqji0VNi0"
      }
    },
    {
      "cell_type": "code",
      "execution_count": 1,
      "metadata": {
        "id": "p2-08jHgduZN"
      },
      "outputs": [],
      "source": [
        "import pandas as pd\n",
        "import numpy as np\n",
        "import datetime\n",
        "from datetime import timedelta\n",
        "import collections\n",
        "import matplotlib.pyplot as plt"
      ]
    },
    {
      "cell_type": "code",
      "source": [
        "data = pd.read_excel('/content/data.xlsx')"
      ],
      "metadata": {
        "id": "1jj_qAIPd27h"
      },
      "execution_count": 2,
      "outputs": []
    },
    {
      "cell_type": "code",
      "source": [
        "data.head()"
      ],
      "metadata": {
        "colab": {
          "base_uri": "https://localhost:8080/",
          "height": 206
        },
        "id": "5CMu1GqCeCHV",
        "outputId": "def78606-cc0f-46b3-d968-9518c0ae70c6"
      },
      "execution_count": 3,
      "outputs": [
        {
          "output_type": "execute_result",
          "data": {
            "text/plain": [
              "   client_id      sum      status     sale new/current  Unnamed: 5  document  \\\n",
              "0        NaN      NaN    Май 2021      NaN         NaN         NaN       NaN   \n",
              "1        6.0  11693.7  ВНУТРЕННИЙ        -           -         NaN         -   \n",
              "2       14.0   5452.7    ОПЛАЧЕНО  Петрова       новая         NaN  оригинал   \n",
              "3       15.0  13991.7    ОПЛАЧЕНО   Иванов     текущая         NaN  оригинал   \n",
              "4       16.0    719.7    ОПЛАЧЕНО   Иванов     текущая         NaN  оригинал   \n",
              "\n",
              "        receiving_date  \n",
              "0                  NaN  \n",
              "1                    -  \n",
              "2  2021-07-26 00:00:00  \n",
              "3  2021-06-08 00:00:00  \n",
              "4  2021-06-08 00:00:00  "
            ],
            "text/html": [
              "\n",
              "  <div id=\"df-b662ebff-57a1-499c-bd7c-8251c855251d\">\n",
              "    <div class=\"colab-df-container\">\n",
              "      <div>\n",
              "<style scoped>\n",
              "    .dataframe tbody tr th:only-of-type {\n",
              "        vertical-align: middle;\n",
              "    }\n",
              "\n",
              "    .dataframe tbody tr th {\n",
              "        vertical-align: top;\n",
              "    }\n",
              "\n",
              "    .dataframe thead th {\n",
              "        text-align: right;\n",
              "    }\n",
              "</style>\n",
              "<table border=\"1\" class=\"dataframe\">\n",
              "  <thead>\n",
              "    <tr style=\"text-align: right;\">\n",
              "      <th></th>\n",
              "      <th>client_id</th>\n",
              "      <th>sum</th>\n",
              "      <th>status</th>\n",
              "      <th>sale</th>\n",
              "      <th>new/current</th>\n",
              "      <th>Unnamed: 5</th>\n",
              "      <th>document</th>\n",
              "      <th>receiving_date</th>\n",
              "    </tr>\n",
              "  </thead>\n",
              "  <tbody>\n",
              "    <tr>\n",
              "      <th>0</th>\n",
              "      <td>NaN</td>\n",
              "      <td>NaN</td>\n",
              "      <td>Май 2021</td>\n",
              "      <td>NaN</td>\n",
              "      <td>NaN</td>\n",
              "      <td>NaN</td>\n",
              "      <td>NaN</td>\n",
              "      <td>NaN</td>\n",
              "    </tr>\n",
              "    <tr>\n",
              "      <th>1</th>\n",
              "      <td>6.0</td>\n",
              "      <td>11693.7</td>\n",
              "      <td>ВНУТРЕННИЙ</td>\n",
              "      <td>-</td>\n",
              "      <td>-</td>\n",
              "      <td>NaN</td>\n",
              "      <td>-</td>\n",
              "      <td>-</td>\n",
              "    </tr>\n",
              "    <tr>\n",
              "      <th>2</th>\n",
              "      <td>14.0</td>\n",
              "      <td>5452.7</td>\n",
              "      <td>ОПЛАЧЕНО</td>\n",
              "      <td>Петрова</td>\n",
              "      <td>новая</td>\n",
              "      <td>NaN</td>\n",
              "      <td>оригинал</td>\n",
              "      <td>2021-07-26 00:00:00</td>\n",
              "    </tr>\n",
              "    <tr>\n",
              "      <th>3</th>\n",
              "      <td>15.0</td>\n",
              "      <td>13991.7</td>\n",
              "      <td>ОПЛАЧЕНО</td>\n",
              "      <td>Иванов</td>\n",
              "      <td>текущая</td>\n",
              "      <td>NaN</td>\n",
              "      <td>оригинал</td>\n",
              "      <td>2021-06-08 00:00:00</td>\n",
              "    </tr>\n",
              "    <tr>\n",
              "      <th>4</th>\n",
              "      <td>16.0</td>\n",
              "      <td>719.7</td>\n",
              "      <td>ОПЛАЧЕНО</td>\n",
              "      <td>Иванов</td>\n",
              "      <td>текущая</td>\n",
              "      <td>NaN</td>\n",
              "      <td>оригинал</td>\n",
              "      <td>2021-06-08 00:00:00</td>\n",
              "    </tr>\n",
              "  </tbody>\n",
              "</table>\n",
              "</div>\n",
              "      <button class=\"colab-df-convert\" onclick=\"convertToInteractive('df-b662ebff-57a1-499c-bd7c-8251c855251d')\"\n",
              "              title=\"Convert this dataframe to an interactive table.\"\n",
              "              style=\"display:none;\">\n",
              "        \n",
              "  <svg xmlns=\"http://www.w3.org/2000/svg\" height=\"24px\"viewBox=\"0 0 24 24\"\n",
              "       width=\"24px\">\n",
              "    <path d=\"M0 0h24v24H0V0z\" fill=\"none\"/>\n",
              "    <path d=\"M18.56 5.44l.94 2.06.94-2.06 2.06-.94-2.06-.94-.94-2.06-.94 2.06-2.06.94zm-11 1L8.5 8.5l.94-2.06 2.06-.94-2.06-.94L8.5 2.5l-.94 2.06-2.06.94zm10 10l.94 2.06.94-2.06 2.06-.94-2.06-.94-.94-2.06-.94 2.06-2.06.94z\"/><path d=\"M17.41 7.96l-1.37-1.37c-.4-.4-.92-.59-1.43-.59-.52 0-1.04.2-1.43.59L10.3 9.45l-7.72 7.72c-.78.78-.78 2.05 0 2.83L4 21.41c.39.39.9.59 1.41.59.51 0 1.02-.2 1.41-.59l7.78-7.78 2.81-2.81c.8-.78.8-2.07 0-2.86zM5.41 20L4 18.59l7.72-7.72 1.47 1.35L5.41 20z\"/>\n",
              "  </svg>\n",
              "      </button>\n",
              "      \n",
              "  <style>\n",
              "    .colab-df-container {\n",
              "      display:flex;\n",
              "      flex-wrap:wrap;\n",
              "      gap: 12px;\n",
              "    }\n",
              "\n",
              "    .colab-df-convert {\n",
              "      background-color: #E8F0FE;\n",
              "      border: none;\n",
              "      border-radius: 50%;\n",
              "      cursor: pointer;\n",
              "      display: none;\n",
              "      fill: #1967D2;\n",
              "      height: 32px;\n",
              "      padding: 0 0 0 0;\n",
              "      width: 32px;\n",
              "    }\n",
              "\n",
              "    .colab-df-convert:hover {\n",
              "      background-color: #E2EBFA;\n",
              "      box-shadow: 0px 1px 2px rgba(60, 64, 67, 0.3), 0px 1px 3px 1px rgba(60, 64, 67, 0.15);\n",
              "      fill: #174EA6;\n",
              "    }\n",
              "\n",
              "    [theme=dark] .colab-df-convert {\n",
              "      background-color: #3B4455;\n",
              "      fill: #D2E3FC;\n",
              "    }\n",
              "\n",
              "    [theme=dark] .colab-df-convert:hover {\n",
              "      background-color: #434B5C;\n",
              "      box-shadow: 0px 1px 3px 1px rgba(0, 0, 0, 0.15);\n",
              "      filter: drop-shadow(0px 1px 2px rgba(0, 0, 0, 0.3));\n",
              "      fill: #FFFFFF;\n",
              "    }\n",
              "  </style>\n",
              "\n",
              "      <script>\n",
              "        const buttonEl =\n",
              "          document.querySelector('#df-b662ebff-57a1-499c-bd7c-8251c855251d button.colab-df-convert');\n",
              "        buttonEl.style.display =\n",
              "          google.colab.kernel.accessAllowed ? 'block' : 'none';\n",
              "\n",
              "        async function convertToInteractive(key) {\n",
              "          const element = document.querySelector('#df-b662ebff-57a1-499c-bd7c-8251c855251d');\n",
              "          const dataTable =\n",
              "            await google.colab.kernel.invokeFunction('convertToInteractive',\n",
              "                                                     [key], {});\n",
              "          if (!dataTable) return;\n",
              "\n",
              "          const docLinkHtml = 'Like what you see? Visit the ' +\n",
              "            '<a target=\"_blank\" href=https://colab.research.google.com/notebooks/data_table.ipynb>data table notebook</a>'\n",
              "            + ' to learn more about interactive tables.';\n",
              "          element.innerHTML = '';\n",
              "          dataTable['output_type'] = 'display_data';\n",
              "          await google.colab.output.renderOutput(dataTable, element);\n",
              "          const docLink = document.createElement('div');\n",
              "          docLink.innerHTML = docLinkHtml;\n",
              "          element.appendChild(docLink);\n",
              "        }\n",
              "      </script>\n",
              "    </div>\n",
              "  </div>\n",
              "  "
            ]
          },
          "metadata": {},
          "execution_count": 3
        }
      ]
    },
    {
      "cell_type": "markdown",
      "source": [
        "1. Вычислите общую выручку за июль 2021 по тем сделкам, приход денежных\n",
        "средств которых не просрочен."
      ],
      "metadata": {
        "id": "WUP4H_INfE6F"
      }
    },
    {
      "cell_type": "code",
      "source": [
        "id_s_jul = data.index[data['status'] == 'Июль 2021'].tolist()[0]\n",
        "id_e_jul = data.index[data['status'] == 'Август 2021'].tolist()[0]\n",
        "print(id_s_jul, id_e_jul)"
      ],
      "metadata": {
        "colab": {
          "base_uri": "https://localhost:8080/"
        },
        "id": "6gX4ZqjEfEpr",
        "outputId": "fb0a1239-649b-4b6b-bdd6-77fbbd187ce5"
      },
      "execution_count": 4,
      "outputs": [
        {
          "output_type": "stream",
          "name": "stdout",
          "text": [
            "258 369\n"
          ]
        }
      ]
    },
    {
      "cell_type": "code",
      "source": [
        "data_jul = data[id_s_jul + 1:id_e_jul]\n",
        "if sum(data_jul['sum'].isna()) == 0:\n",
        "  id_ps = data_jul.index[data_jul['status'] == 'ПРОСРОЧЕНО'].tolist()\n",
        "  sum_jul = sum(data_jul['sum']) - sum(data_jul['sum']\\\n",
        "                             [data_jul['status'] == 'ПРОСРОЧЕНО'])\n",
        "  print('Общая выручка за июль 2021 составила {}'.format(round(sum_jul, 2)))"
      ],
      "metadata": {
        "colab": {
          "base_uri": "https://localhost:8080/"
        },
        "id": "xtV_HcBpePhT",
        "outputId": "bb0dfcdc-f011-440e-9854-b8fe33ad5d9c"
      },
      "execution_count": 5,
      "outputs": [
        {
          "output_type": "stream",
          "name": "stdout",
          "text": [
            "Общая выручка за июль 2021 составила 859896.47\n"
          ]
        }
      ]
    },
    {
      "cell_type": "markdown",
      "source": [
        "3. Кто из менеджеров привлек для компании больше всего денежных средств в\n",
        "сентябре 2021?"
      ],
      "metadata": {
        "id": "bQIyJayDnsYE"
      }
    },
    {
      "cell_type": "code",
      "source": [
        "id_s_spt = data.index[data['status'] == 'Сентябрь 2021'].tolist()[0]\n",
        "id_e_spt = data.index[data['status'] == 'Октябрь 2021'].tolist()[0]\n",
        "print(id_s_spt, id_e_spt)"
      ],
      "metadata": {
        "colab": {
          "base_uri": "https://localhost:8080/"
        },
        "id": "M84CCQVLoRbY",
        "outputId": "c1ba1746-5741-465f-86ba-df8f497b5e43"
      },
      "execution_count": 6,
      "outputs": [
        {
          "output_type": "stream",
          "name": "stdout",
          "text": [
            "484 594\n"
          ]
        }
      ]
    },
    {
      "cell_type": "code",
      "source": [
        "data_spt = data[id_s_spt + 1:id_e_spt]\n",
        "data_gr_sale = data_spt.groupby(data_spt.sale).sum().reset_index()"
      ],
      "metadata": {
        "id": "1KOvLzaOot1j"
      },
      "execution_count": 7,
      "outputs": []
    },
    {
      "cell_type": "code",
      "source": [
        "best_sale = list(data_gr_sale['sale'][data_gr_sale['sum'] == \\\n",
        "                                      max(data_gr_sale['sum'])])[0]\n",
        "\n",
        "print('В сентябре 2021 {} привлек для компании больше всего денежных средств\\\n",
        " в размере {}'.format(best_sale, max(data_gr_sale['sum'])))"
      ],
      "metadata": {
        "colab": {
          "base_uri": "https://localhost:8080/"
        },
        "id": "rx4RiXrSsGPd",
        "outputId": "de85bf9d-8f24-4de5-af81-f4e241a390b9"
      },
      "execution_count": 8,
      "outputs": [
        {
          "output_type": "stream",
          "name": "stdout",
          "text": [
            "В сентябре 2021 Смирнов привлек для компании больше всего денежных средств в размере 221525.7\n"
          ]
        }
      ]
    },
    {
      "cell_type": "markdown",
      "source": [
        "4. Какой тип сделок (новая/текущая) был преобладающим в октябре 2021?"
      ],
      "metadata": {
        "id": "G9N-1qZKnwXW"
      }
    },
    {
      "cell_type": "code",
      "source": [
        "data_oct = data[id_e_spt + 1:]\n",
        "dif = sum(data_oct['new/current'] == 'текущая') - \\\n",
        "sum(data_oct['new/current'] == 'новая')\n",
        "\n",
        "if dif < 0:\n",
        "  print('В октябре 2021 преобладали сделки типа \"новая\" на {}'.format(dif))\n",
        "\n",
        "else:\n",
        "  print('В октябре 2021 преобладали сделки типа \"текущая\" на {}'.format(dif))"
      ],
      "metadata": {
        "colab": {
          "base_uri": "https://localhost:8080/"
        },
        "id": "DJme7_LctyG1",
        "outputId": "94b1f6ec-b3d2-4836-c4b1-89b4f7c7e341"
      },
      "execution_count": 9,
      "outputs": [
        {
          "output_type": "stream",
          "name": "stdout",
          "text": [
            "В октябре 2021 преобладали сделки типа \"текущая\" на 63\n"
          ]
        }
      ]
    },
    {
      "cell_type": "markdown",
      "source": [
        "5. Сколько оригиналов договора по майским сделкам было получено в июне 2021?"
      ],
      "metadata": {
        "id": "yx1clbpvnyMf"
      }
    },
    {
      "cell_type": "code",
      "source": [
        "id_s_may = data.index[data['status'] == 'Май 2021'].tolist()[0]\n",
        "id_e_may = data.index[data['status'] == 'Июнь 2021'].tolist()[0]\n",
        "print(id_s_may, id_e_may)"
      ],
      "metadata": {
        "colab": {
          "base_uri": "https://localhost:8080/"
        },
        "id": "Rhmt8a3LlU-l",
        "outputId": "e8f4ddf9-6fd9-4b37-f0c8-2b8c4efe18af"
      },
      "execution_count": 10,
      "outputs": [
        {
          "output_type": "stream",
          "name": "stdout",
          "text": [
            "0 129\n"
          ]
        }
      ]
    },
    {
      "cell_type": "code",
      "source": [
        "data_may = data[id_s_may + 2:id_e_may]\n",
        "dt_may = pd.DataFrame(pd.to_datetime(data_may['receiving_date'], \\\n",
        "                                     format=\"%d/%m/%Y, %H:%M:%S\"))"
      ],
      "metadata": {
        "id": "cFND4p4E0RCP"
      },
      "execution_count": 11,
      "outputs": []
    },
    {
      "cell_type": "code",
      "source": [
        "dt_may_gr = dt_may.groupby(dt_may.receiving_date.dt.month).count()\n",
        "print('В июне 2021 было получено {} оригиналов договора по майским сделкам'.format(dt_may_gr._get_value(6, 'receiving_date')))"
      ],
      "metadata": {
        "colab": {
          "base_uri": "https://localhost:8080/"
        },
        "id": "RAPujj6H295n",
        "outputId": "4888d820-7583-429a-881e-d3220276de85"
      },
      "execution_count": 12,
      "outputs": [
        {
          "output_type": "stream",
          "name": "stdout",
          "text": [
            "В июне 2021 было получено 77 оригиналов договора по майским сделкам\n"
          ]
        }
      ]
    },
    {
      "cell_type": "markdown",
      "source": [
        "2. Как изменялась выручка компании за рассматриваемый период?\n",
        "Проиллюстрируйте графиком."
      ],
      "metadata": {
        "id": "rO7nj9VvndeW"
      }
    },
    {
      "cell_type": "code",
      "source": [
        "data_mon = [data_may, data[id_e_may + 1:id_s_jul], \\\n",
        "            data_jul, data[id_e_jul + 1:id_s_spt], data_spt, data_oct]\n",
        "\n",
        "sum_all_mon = [sum(d_m['sum']) for d_m in data_mon]"
      ],
      "metadata": {
        "id": "vK1Z3kxzyT42"
      },
      "execution_count": 13,
      "outputs": []
    },
    {
      "cell_type": "code",
      "source": [
        "fig, ax = plt.subplots()\n",
        "\n",
        "bar_x = list(['Май', 'Июнь', 'Июль', 'Август', 'Сентябрь', 'Октябрь'])\n",
        "bar_label = [round(i, 2) for i in sum_all_mon]\n",
        "\n",
        "bar_plot = plt.bar(bar_x, sum_all_mon, color='lightgreen')\n",
        "\n",
        "def autolabel(rects):\n",
        "    for idx, rect in enumerate(bar_plot):\n",
        "        height = rect.get_height()\n",
        "        ax.text(rect.get_x() + rect.get_width()/2., 0.5*height,\n",
        "                bar_label[idx],\n",
        "                ha='center', va='bottom', rotation=90, size='large')\n",
        "\n",
        "autolabel(bar_plot)\n",
        "plt.plot(bar_label, color='darkgreen', linewidth=4)\n",
        "plt.ylabel('Размер выручки')\n",
        "plt.title('Изменение выручки компании за рассматриваемый период', pad=28)\n",
        "plt.show()"
      ],
      "metadata": {
        "colab": {
          "base_uri": "https://localhost:8080/",
          "height": 303
        },
        "id": "w2hzllzSz3l7",
        "outputId": "dda67e65-6a46-4043-e042-5fc96139d78e"
      },
      "execution_count": 14,
      "outputs": [
        {
          "output_type": "display_data",
          "data": {
            "text/plain": [
              "<Figure size 432x288 with 1 Axes>"
            ],
            "image/png": "[encoded data removed]"
          },
          "metadata": {
            "needs_background": "light"
          }
        }
      ]
    },
    {
      "cell_type": "markdown",
      "source": [
        "За каждую заключенную сделку менеджер получает бонус, который рассчитывается\n",
        "следующим образом.\n",
        "\n",
        "1) За новые сделки менеджер получает 7 % от суммы, при условии, что статус оплаты «ОПЛАЧЕНО», а также имеется оригинал подписанного договора с\n",
        "клиентом (в рассматриваемом месяце).\n",
        "\n",
        "2) За текущие сделки менеджер получает 5 % от суммы, если она больше 10 тыс., и 3 % от суммы, если меньше. При этом статус оплаты может быть любым, кроме «ПРОСРОЧЕНО», а также необходимо наличие оригинала подписанного\n",
        "договора с клиентом (в рассматриваемом месяце).\n",
        "\n",
        "Бонусы по сделкам, оригиналы для которых приходят позже рассматриваемого месяца, считаются остатком на следующий период, который выплачивается по\n",
        "мере прихода оригиналов.\n",
        "\n",
        "Вычислите остаток каждого из менеджеров на 01.07.2021."
      ],
      "metadata": {
        "id": "O7ONodkI-9rG"
      }
    },
    {
      "cell_type": "code",
      "source": [
        "data_jun =data[id_e_may + 1:id_s_jul]\n",
        "data_mj = pd.concat([data_may[pd.to_datetime(data_may['receiving_date']).dt.month > 6], \\\n",
        "                     data_jun[pd.to_datetime(data_jun['receiving_date']).dt.month > 6]]).reset_index()\n",
        "\n",
        "data_mj['bonus'] = np.zeros(len(data_mj))"
      ],
      "metadata": {
        "id": "S1jn-fqG7O-R"
      },
      "execution_count": 15,
      "outputs": []
    },
    {
      "cell_type": "code",
      "source": [
        "for id, row in data_mj.iterrows():\n",
        "  if row['new/current'] == 'новая' and row['status'] == 'ОПЛАЧЕНО':\n",
        "    data_mj.loc[id, 'bonus'] = row['sum'] * 0.07\n",
        "\n",
        "  if row['new/current'] == 'текущая' and row['status'] != 'ПРОСРОЧЕНО':\n",
        "    if row['sum'] >= 10000:\n",
        "      data_mj.loc[id, 'bonus'] += row['sum'] * 0.05\n",
        "    else:\n",
        "      data_mj.loc[id, 'bonus'] += row['sum'] * 0.03"
      ],
      "metadata": {
        "id": "bRxzVaXnBk6M"
      },
      "execution_count": 16,
      "outputs": []
    },
    {
      "cell_type": "code",
      "source": [
        "data_mj_gr = data_mj.groupby(data_mj.sale).sum().reset_index()"
      ],
      "metadata": {
        "id": "YzJvQUI-Fg-4"
      },
      "execution_count": 17,
      "outputs": []
    },
    {
      "cell_type": "code",
      "source": [
        "print('Остаток каждого из менеджеров на 01.07.2021\\n')\n",
        "\n",
        "print(data_mj_gr.iloc[:, [data_mj_gr.columns.get_loc('sale'), data_mj_gr.columns.get_loc('bonus')]])"
      ],
      "metadata": {
        "colab": {
          "base_uri": "https://localhost:8080/"
        },
        "id": "ZwacjrkpF-qZ",
        "outputId": "fe85dc31-b958-4504-810e-6a32b83470fa"
      },
      "execution_count": 18,
      "outputs": [
        {
          "output_type": "stream",
          "name": "stdout",
          "text": [
            "Остаток каждого из менеджеров на 01.07.2021\n",
            "\n",
            "         sale       bonus\n",
            "0     Андреев   3954.7907\n",
            "1    Васильев   1037.0490\n",
            "2      Иванов   5991.4520\n",
            "3   Кузнецова   4496.9501\n",
            "4     Петрова  10770.7474\n",
            "5   Селиванов   5297.6900\n",
            "6     Смирнов   7401.8220\n",
            "7     Соколов    269.2110\n",
            "8  Филимонова   2317.9579\n"
          ]
        }
      ]
    }
  ]
}